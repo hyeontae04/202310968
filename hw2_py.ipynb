{
  "nbformat": 4,
  "nbformat_minor": 0,
  "metadata": {
    "colab": {
      "provenance": [],
      "authorship_tag": "ABX9TyPsJTErcZQMsFgfLfZmcY39",
      "include_colab_link": true
    },
    "kernelspec": {
      "name": "python3",
      "display_name": "Python 3"
    },
    "language_info": {
      "name": "python"
    }
  },
  "cells": [
    {
      "cell_type": "markdown",
      "metadata": {
        "id": "view-in-github",
        "colab_type": "text"
      },
      "source": [
        "<a href=\"https://colab.research.google.com/github/hyeontae04/202310968/blob/main/hw2_py.ipynb\" target=\"_parent\"><img src=\"https://colab.research.google.com/assets/colab-badge.svg\" alt=\"Open In Colab\"/></a>"
      ]
    },
    {
      "cell_type": "code",
      "execution_count": 4,
      "metadata": {
        "colab": {
          "base_uri": "https://localhost:8080/"
        },
        "id": "vcca5xEdM--E",
        "outputId": "64042358-5414-45f6-98e9-dc4f27384fbe"
      },
      "outputs": [
        {
          "output_type": "stream",
          "name": "stdout",
          "text": [
            "동전으로 교환하고자 하는 금액은?3570\n",
            "500원 동전의 개수: 7\n",
            "100원 동전의 개수: 0\n",
            "50원 동전의 개수: 1\n",
            "10원 동전의 개수: 2\n"
          ]
        }
      ],
      "source": [
        "def exchange(money) :\n",
        "    m = money\n",
        "    n500 =m //500\n",
        "    m%=500 \n",
        "    n100 =m //100\n",
        "    m%=100\n",
        "    n50 =m //50\n",
        "    m%=50\n",
        "    n10 = m //10\n",
        "    m%=10\n",
        "    print('500원 동전의 개수:' , n500)\n",
        "    print('100원 동전의 개수:' , n100)\n",
        "    print('50원 동전의 개수:' , n50)\n",
        "    print('10원 동전의 개수:' , n10)\n",
        "    \n",
        "def get_integer(propmt) :\n",
        "    res = int(input(propmt))\n",
        "    return res\n",
        "\n",
        "money = get_integer('동전으로 교환하고자 하는 금액은?')\n",
        "exchange(money)\n",
        "\n",
        "\n"
      ]
    }
  ]
}