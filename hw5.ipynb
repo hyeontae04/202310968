{
  "nbformat": 4,
  "nbformat_minor": 0,
  "metadata": {
    "colab": {
      "provenance": [],
      "authorship_tag": "ABX9TyPeqHlM1ckmZpOc4yYDhnI4",
      "include_colab_link": true
    },
    "kernelspec": {
      "name": "python3",
      "display_name": "Python 3"
    },
    "language_info": {
      "name": "python"
    }
  },
  "cells": [
    {
      "cell_type": "markdown",
      "metadata": {
        "id": "view-in-github",
        "colab_type": "text"
      },
      "source": [
        "<a href=\"https://colab.research.google.com/github/hyeontae04/202310968/blob/main/hw5.ipynb\" target=\"_parent\"><img src=\"https://colab.research.google.com/assets/colab-badge.svg\" alt=\"Open In Colab\"/></a>"
      ]
    },
    {
      "cell_type": "code",
      "execution_count": 2,
      "metadata": {
        "colab": {
          "base_uri": "https://localhost:8080/"
        },
        "id": "3SIIfD4Bx4T9",
        "outputId": "9e91dbf7-785f-4a1e-e7a6-1341c2b6b862"
      },
      "outputs": [
        {
          "output_type": "stream",
          "name": "stdout",
          "text": [
            "세 자리 정수 입력: 129\n",
            "일 이 구\n"
          ]
        }
      ],
      "source": [
        "def read_single_digit(n):\n",
        "  if n == 1 :\n",
        "    return '일'\n",
        "  elif n == 2 :\n",
        "    return '이'\n",
        "  elif n == 3 :\n",
        "    return '삼'\n",
        "  elif n == 4 :\n",
        "    return '사'\n",
        "  elif n == 5 :\n",
        "    return '오'\n",
        "  elif n == 6 :\n",
        "    return '육'\n",
        "  elif n == 7 :\n",
        "    return '칠'\n",
        "  elif n == 8 :\n",
        "    return '팔'\n",
        "  elif n == 9 :\n",
        "    return '구'\n",
        "  else :\n",
        "    return '영'\n",
        "\n",
        "def read_number(num):\n",
        "  n=num\n",
        "  n100=n//100\n",
        "  n%=100\n",
        "  n10=n//10\n",
        "  n%=10\n",
        "  n1=n//1\n",
        "  n%=1\n",
        "  a=read_single_digit(n100)\n",
        "  b=read_single_digit(n10)\n",
        "  c=read_single_digit(n1)\n",
        "  print(f'{a} {b} {c}')\n",
        "\n",
        "\n",
        "n=int(input('세 자리 정수 입력: '))\n",
        "read_number(n)"
      ]
    }
  ]
}