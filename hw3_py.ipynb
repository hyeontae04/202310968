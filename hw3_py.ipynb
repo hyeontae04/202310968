{
  "nbformat": 4,
  "nbformat_minor": 0,
  "metadata": {
    "colab": {
      "provenance": [],
      "authorship_tag": "ABX9TyMAo3U9Aq7LNh2QR8/32cx7",
      "include_colab_link": true
    },
    "kernelspec": {
      "name": "python3",
      "display_name": "Python 3"
    },
    "language_info": {
      "name": "python"
    }
  },
  "cells": [
    {
      "cell_type": "markdown",
      "metadata": {
        "id": "view-in-github",
        "colab_type": "text"
      },
      "source": [
        "<a href=\"https://colab.research.google.com/github/hyeontae04/202310968/blob/main/hw3_py.ipynb\" target=\"_parent\"><img src=\"https://colab.research.google.com/assets/colab-badge.svg\" alt=\"Open In Colab\"/></a>"
      ]
    },
    {
      "cell_type": "code",
      "execution_count": 1,
      "metadata": {
        "colab": {
          "base_uri": "https://localhost:8080/"
        },
        "id": "czJH7C780is7",
        "outputId": "539dab1d-9489-4b87-c13d-b7c947f39251"
      },
      "outputs": [
        {
          "output_type": "stream",
          "name": "stdout",
          "text": [
            "할인율은?20\n",
            "A 상품의 할인된 가격은?8000\n",
            "B 상품의 할인된 가격은?12000\n",
            " A상품의 정가는 10000\n",
            " B상품의 정가는 15000\n"
          ]
        }
      ],
      "source": [
        "def get_fixed_price(price) :\n",
        "    c = price*100/(100-rate)\n",
        "    return c\n",
        "def sale_price(prompt) :\n",
        "    v =int(input(prompt))\n",
        "    return v\n",
        "\n",
        "rate = int(input('할인율은?'))\n",
        "z = sale_price('A 상품의 할인된 가격은?')\n",
        "x = sale_price('B 상품의 할인된 가격은?')\n",
        "print(' A상품의 정가는', int(get_fixed_price(z)))\n",
        "print(' B상품의 정가는', int(get_fixed_price(x)))\n"
      ]
    }
  ]
}